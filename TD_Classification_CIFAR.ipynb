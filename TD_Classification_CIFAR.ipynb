{
  "cells": [
    {
      "cell_type": "markdown",
      "metadata": {
        "id": "view-in-github",
        "colab_type": "text"
      },
      "source": [
        "<a href=\"https://colab.research.google.com/github/FrancXPT/ConvNet/blob/main/TD_Classification_CIFAR.ipynb\" target=\"_parent\"><img src=\"https://colab.research.google.com/assets/colab-badge.svg\" alt=\"Open In Colab\"/></a>"
      ]
    },
    {
      "cell_type": "markdown",
      "metadata": {
        "id": "xCYbpAdAc3X7"
      },
      "source": [
        "# Classification d'une petite base de données d'images couleur (CIFAR-10)\n",
        "\n",
        "Le dataset CIFAR-10 (Canadian Institute For Advanced Research) est une collection d'images qui sont couramment utilisées pour tester les performances des algorithmes de l'apprentissage automatique et les algorithmes de vision par ordinateur. C'est l'un des datasets les plus utilisés pour la recherche sur l'apprentissage machine. L'ensemble de données CIFAR-10 contient 60 000 images 32x32 en couleur réparties en 10 classes différentes. Les 10 classes différentes représentent des avions, des voitures, des oiseaux, des chats, des cerfs, des chiens, des grenouilles, des chevaux, des bateaux et des camions. Il y a 6 000 images dans chaque classe. Les noms des classes sont ici https://www.cs.toronto.edu/~kriz/cifar.html \n",
        "\n",
        "Pour plus de détails: https://en.wikipedia.org/wiki/CIFAR-10"
      ]
    },
    {
      "cell_type": "markdown",
      "metadata": {
        "id": "zSh2GxMakLec"
      },
      "source": [
        "## Importation des bibliothèques"
      ]
    },
    {
      "cell_type": "code",
      "execution_count": 2,
      "metadata": {
        "id": "_Qv2r7WFwj5n"
      },
      "outputs": [],
      "source": [
        "import tensorflow"
      ]
    },
    {
      "cell_type": "code",
      "execution_count": 3,
      "metadata": {
        "id": "6kYlveFMwy0Q",
        "colab": {
          "base_uri": "https://localhost:8080/",
          "height": 35
        },
        "outputId": "8378a452-01b5-4073-f003-0233749dd3fc"
      },
      "outputs": [
        {
          "output_type": "execute_result",
          "data": {
            "text/plain": [
              "'2.12.0'"
            ],
            "application/vnd.google.colaboratory.intrinsic+json": {
              "type": "string"
            }
          },
          "metadata": {},
          "execution_count": 3
        }
      ],
      "source": [
        "tensorflow.__version__"
      ]
    },
    {
      "cell_type": "code",
      "execution_count": 4,
      "metadata": {
        "id": "U5CzjFRvNJoQ"
      },
      "outputs": [],
      "source": [
        "from tensorflow import keras\n",
        "from keras.datasets import cifar10\n",
        "from keras.models import Sequential\n",
        "from keras.layers import Dense, Dropout, Activation, Flatten\n",
        "from keras.layers import Conv2D, MaxPooling2D\n",
        "from sklearn.preprocessing import MinMaxScaler\n",
        "\n",
        "import numpy as np\n",
        "import matplotlib.pyplot as plt"
      ]
    },
    {
      "cell_type": "markdown",
      "metadata": {
        "id": "0s_ObZU6kWsG"
      },
      "source": [
        "## Diviser les données en train/test"
      ]
    },
    {
      "cell_type": "code",
      "execution_count": 5,
      "metadata": {
        "id": "FSAjzMqbegr6",
        "colab": {
          "base_uri": "https://localhost:8080/"
        },
        "outputId": "2572ad3b-19ee-4716-fe0e-665b304a7d1d"
      },
      "outputs": [
        {
          "output_type": "stream",
          "name": "stdout",
          "text": [
            "Downloading data from https://www.cs.toronto.edu/~kriz/cifar-10-python.tar.gz\n",
            "170498071/170498071 [==============================] - 6s 0us/step\n"
          ]
        }
      ],
      "source": [
        "# The data, split between train and test sets:\n",
        "(x_train, y_train), (x_test, y_test) = cifar10.load_data()"
      ]
    },
    {
      "cell_type": "markdown",
      "metadata": {
        "id": "odxAFIDs45mA"
      },
      "source": [
        "**Question 1:** Ecrivez un code qui montre le nombre des données d'apprentissage et données de test, et aussi la taille des images utilisées"
      ]
    },
    {
      "cell_type": "code",
      "execution_count": 6,
      "metadata": {
        "id": "tL_g-jTC44_L",
        "colab": {
          "base_uri": "https://localhost:8080/"
        },
        "outputId": "637547e6-92b3-4e0f-843b-bc0d04119f61"
      },
      "outputs": [
        {
          "output_type": "execute_result",
          "data": {
            "text/plain": [
              "(50000, 32, 32, 3)"
            ]
          },
          "metadata": {},
          "execution_count": 6
        }
      ],
      "source": [
        "x_train.shape"
      ]
    },
    {
      "cell_type": "markdown",
      "metadata": {
        "id": "pAyY9GID17jT"
      },
      "source": [
        "### Visualizer quelques exemples\n",
        "\n",
        "Les détails des classes sont ici https://www.cs.toronto.edu/~kriz/cifar.html"
      ]
    },
    {
      "cell_type": "markdown",
      "metadata": {
        "id": "ski1egci5Qbp"
      },
      "source": [
        "**Question 2:** Ecrivez un code qui choisit un nombre au hasard entre 0 et 50000 puis affiche l'image correspondante dans les images de training"
      ]
    },
    {
      "cell_type": "code",
      "execution_count": 7,
      "metadata": {
        "id": "OxECYv542Z-e",
        "colab": {
          "base_uri": "https://localhost:8080/",
          "height": 226
        },
        "outputId": "6a4434bc-7d94-45b8-83ff-7de2af64bd7b"
      },
      "outputs": [
        {
          "output_type": "execute_result",
          "data": {
            "text/plain": [
              "<matplotlib.image.AxesImage at 0x7fb97a7a9be0>"
            ]
          },
          "metadata": {},
          "execution_count": 7
        },
        {
          "output_type": "display_data",
          "data": {
            "text/plain": [
              "<Figure size 640x480 with 1 Axes>"
            ],
            "image/png": "[encoded data removed]"
          },
          "metadata": {}
        }
      ],
      "source": [
        "randindices = np.random.randint(50000,size=1)\n",
        "plt.figure()\n",
        "plt.subplot(1,3,1)\n",
        "plt.imshow(x_train[randindices[0],:,:], cmap='gray')\n",
        "# plt.subplot(1,3,2)\n",
        "# plt.imshow(x_train[randindices[1],:,:], cmap='gray')\n",
        "# plt.subplot(1,3,3)\n",
        "# plt.imshow(x_train[randindices[2],:,:], cmap='gray')"
      ]
    },
    {
      "cell_type": "markdown",
      "metadata": {
        "id": "t8y_cRUj5y1H"
      },
      "source": [
        "**Question 3:** Ecrivez un code qui affiche la classe de l'image sélectionnée précedemment"
      ]
    },
    {
      "cell_type": "code",
      "execution_count": 8,
      "metadata": {
        "id": "jiHCRjpq2bS9",
        "colab": {
          "base_uri": "https://localhost:8080/"
        },
        "outputId": "7a88f33a-02e9-41ed-c809-10aae7099c5c"
      },
      "outputs": [
        {
          "output_type": "stream",
          "name": "stdout",
          "text": [
            "[2]\n"
          ]
        }
      ],
      "source": [
        "print(y_train[randindices[0]])"
      ]
    },
    {
      "cell_type": "markdown",
      "metadata": {
        "id": "pLyWPZT3kWOe"
      },
      "source": [
        "## Conversion en one-hot encoding"
      ]
    },
    {
      "cell_type": "markdown",
      "metadata": {
        "id": "52bhPEu554l4"
      },
      "source": [
        "**Question 4:** Faites la conversion des labels y en one-hot encoding"
      ]
    },
    {
      "cell_type": "code",
      "execution_count": 9,
      "metadata": {
        "id": "AoS_b-f6evL8",
        "colab": {
          "base_uri": "https://localhost:8080/"
        },
        "outputId": "2a3d319e-174f-4497-bdb1-19662e8d19fa"
      },
      "outputs": [
        {
          "output_type": "execute_result",
          "data": {
            "text/plain": [
              "array([[0., 0., 0., 0., 0., 0., 1., 0., 0., 0.],\n",
              "       [0., 0., 0., 0., 0., 0., 0., 0., 0., 1.],\n",
              "       [0., 0., 0., 0., 0., 0., 0., 0., 0., 1.],\n",
              "       [0., 0., 0., 0., 1., 0., 0., 0., 0., 0.],\n",
              "       [0., 1., 0., 0., 0., 0., 0., 0., 0., 0.]], dtype=float32)"
            ]
          },
          "metadata": {},
          "execution_count": 9
        }
      ],
      "source": [
        "num_classes = 10\n",
        "\n",
        "y_train = keras.utils.to_categorical(y_train, num_classes)\n",
        "y_test = keras.utils.to_categorical(y_test, num_classes)\n",
        "y_train[:5,]"
      ]
    },
    {
      "cell_type": "markdown",
      "metadata": {
        "id": "lG-Bs4iBe0iO"
      },
      "source": [
        "## Construisons notre ConvNet"
      ]
    },
    {
      "cell_type": "markdown",
      "metadata": {
        "id": "aAzx1TO-6LYr"
      },
      "source": [
        "**Question 5:** En regardant le model.summary() ci dessous, reconstruisez le code de réseaux de neurones\n",
        "\n",
        "```\n",
        "Model: \"sequential\"\n",
        "_________________________________________________________________\n",
        " Layer (type)                Output Shape              Param #   \n",
        "=================================================================\n",
        " conv2d (Conv2D)             (None, 30, 30, 32)        896       \n",
        " conv2d_1 (Conv2D)           (None, 28, 28, 32)        9248      \n",
        " max_pooling2d (MaxPooling2D)  (None, 14, 14, 32)       0         \n",
        " dropout (Dropout)           (None, 14, 14, 32)        0         \n",
        " conv2d_2 (Conv2D)           (None, 12, 12, 64)        18496     \n",
        " conv2d_3 (Conv2D)           (None, 10, 10, 64)        36928     \n",
        " max_pooling2d_1 (MaxPooling2D)  (None, 5, 5, 64)         0         \n",
        " dropout_1 (Dropout)         (None, 5, 5, 64)          0         \n",
        " flatten (Flatten)           (None, 1600)              0         \n",
        " dense (Dense)               (None, 512)               819712    \n",
        " dropout_2 (Dropout)         (None, 512)               0         \n",
        " dense_1 (Dense)             (None, 10)                5130      \n",
        "=================================================================\n",
        "Total params: 890,410\n",
        "Trainable params: 890,410\n",
        "Non-trainable params: 0\n",
        "_________________________________________________________________\n",
        "```\n",
        "\n",
        "(pour les activations utilisez des ReLU et pour le dropout utilisez 30%, la taille des filtres c'est 3x3)"
      ]
    },
    {
      "cell_type": "code",
      "execution_count": 10,
      "metadata": {
        "id": "Mbqq414xdMLk"
      },
      "outputs": [],
      "source": [
        "#### ici écrivez le code du convnet\n",
        "model = Sequential()\n",
        "model.add(Conv2D(32, (3, 3), activation='relu', input_shape=(32, 32, 3)))\n",
        "model.add(Conv2D(32, (3, 3), activation='relu'))\n",
        "model.add(MaxPooling2D(pool_size=(2, 2)))\n",
        "model.add(Dropout(0.25))\n",
        "model.add(Conv2D(64, (3, 3), activation='relu'))\n",
        "model.add(Conv2D(64, (3, 3), activation='relu'))\n",
        "model.add(MaxPooling2D(pool_size=(2, 2)))\n",
        "model.add(Dropout(0.25))\n",
        "model.add(Flatten())\n",
        "model.add(Dense(512, activation='relu'))\n",
        "model.add(Dropout(0.5))\n",
        "model.add(Dense(10, activation='softmax'))"
      ]
    },
    {
      "cell_type": "code",
      "execution_count": 11,
      "metadata": {
        "id": "LR2QGAzLe_ca",
        "colab": {
          "base_uri": "https://localhost:8080/"
        },
        "outputId": "4e1d619b-3f1c-41f6-f835-d74200081590"
      },
      "outputs": [
        {
          "output_type": "stream",
          "name": "stdout",
          "text": [
            "Model: \"sequential\"\n",
            "_________________________________________________________________\n",
            " Layer (type)                Output Shape              Param #   \n",
            "=================================================================\n",
            " conv2d (Conv2D)             (None, 30, 30, 32)        896       \n",
            "                                                                 \n",
            " conv2d_1 (Conv2D)           (None, 28, 28, 32)        9248      \n",
            "                                                                 \n",
            " max_pooling2d (MaxPooling2D  (None, 14, 14, 32)       0         \n",
            " )                                                               \n",
            "                                                                 \n",
            " dropout (Dropout)           (None, 14, 14, 32)        0         \n",
            "                                                                 \n",
            " conv2d_2 (Conv2D)           (None, 12, 12, 64)        18496     \n",
            "                                                                 \n",
            " conv2d_3 (Conv2D)           (None, 10, 10, 64)        36928     \n",
            "                                                                 \n",
            " max_pooling2d_1 (MaxPooling  (None, 5, 5, 64)         0         \n",
            " 2D)                                                             \n",
            "                                                                 \n",
            " dropout_1 (Dropout)         (None, 5, 5, 64)          0         \n",
            "                                                                 \n",
            " flatten (Flatten)           (None, 1600)              0         \n",
            "                                                                 \n",
            " dense (Dense)               (None, 512)               819712    \n",
            "                                                                 \n",
            " dropout_2 (Dropout)         (None, 512)               0         \n",
            "                                                                 \n",
            " dense_1 (Dense)             (None, 10)                5130      \n",
            "                                                                 \n",
            "=================================================================\n",
            "Total params: 890,410\n",
            "Trainable params: 890,410\n",
            "Non-trainable params: 0\n",
            "_________________________________________________________________\n"
          ]
        }
      ],
      "source": [
        "### vérifiez si votre model.summary() est similaire à l'énoncé de la question\n",
        "model.summary()"
      ]
    },
    {
      "cell_type": "markdown",
      "metadata": {
        "id": "XBYAryGpkcFe"
      },
      "source": [
        "### Normalisation des données d'entrée"
      ]
    },
    {
      "cell_type": "markdown",
      "metadata": {
        "id": "TOnqE72B6w2i"
      },
      "source": [
        "**Question 6:** Normalisez les données d'entrées de train et de test"
      ]
    },
    {
      "cell_type": "code",
      "execution_count": 12,
      "metadata": {
        "id": "EeGXfJezflHM",
        "colab": {
          "base_uri": "https://localhost:8080/"
        },
        "outputId": "291f7f08-5aed-40cd-92d8-f4cd85c3d88d"
      },
      "outputs": [
        {
          "output_type": "stream",
          "name": "stdout",
          "text": [
            "50000 train samples\n",
            "10000 test samples\n"
          ]
        }
      ],
      "source": [
        "x_train = x_train.astype('float32') #transformation d'int to float\n",
        "x_test = x_test.astype('float32')\n",
        "x_train /= 255\n",
        "x_test /= 255\n",
        "print(x_train.shape[0], 'train samples')\n",
        "print(x_test.shape[0], 'test samples')"
      ]
    },
    {
      "cell_type": "markdown",
      "metadata": {
        "id": "1cZgyUPAkfpR"
      },
      "source": [
        "### Choix de l'optimiseur et compilation du modèle"
      ]
    },
    {
      "cell_type": "markdown",
      "metadata": {
        "id": "_7kZ4_z06-5o"
      },
      "source": [
        "**Question 7:** Définisser l'optimiseur ADAM avec un learning rate de $10^{-3}$"
      ]
    },
    {
      "cell_type": "code",
      "execution_count": 13,
      "metadata": {
        "id": "U-mt9cBdfttY"
      },
      "outputs": [],
      "source": [
        "from tensorflow.keras.optimizers import Adam\n",
        "opt = Adam(learning_rate=1e-3)"
      ]
    },
    {
      "cell_type": "markdown",
      "metadata": {
        "id": "ltybmhNq7ZSK"
      },
      "source": [
        "**Question 8:** Compiler le modèle avec la bonne fonction de coût et afficher aussi la métrique \"accuracy\""
      ]
    },
    {
      "cell_type": "code",
      "execution_count": 14,
      "metadata": {
        "id": "mtmMnI8V7Zbb"
      },
      "outputs": [],
      "source": [
        "model.compile(loss='categorical_crossentropy', optimizer=opt, metrics=['accuracy'])"
      ]
    },
    {
      "cell_type": "markdown",
      "metadata": {
        "id": "iiZXQaLB3nD1"
      },
      "source": [
        "\"nvidia-smi\" sert à checker la carte GPU utilisée, vérifier que vous avez activer la GPU dans ce colab: onglet \"Execution -> modifier le type de l'Execution\""
      ]
    },
    {
      "cell_type": "code",
      "execution_count": 15,
      "metadata": {
        "id": "rBaOKKxpkHDo",
        "colab": {
          "base_uri": "https://localhost:8080/"
        },
        "outputId": "4b233dd5-1e4c-46c8-8656-3a80a021f29c"
      },
      "outputs": [
        {
          "output_type": "stream",
          "name": "stdout",
          "text": [
            "Fri Mar 31 12:11:14 2023       \n",
            "+-----------------------------------------------------------------------------+\n",
            "| NVIDIA-SMI 525.85.12    Driver Version: 525.85.12    CUDA Version: 12.0     |\n",
            "|-------------------------------+----------------------+----------------------+\n",
            "| GPU  Name        Persistence-M| Bus-Id        Disp.A | Volatile Uncorr. ECC |\n",
            "| Fan  Temp  Perf  Pwr:Usage/Cap|         Memory-Usage | GPU-Util  Compute M. |\n",
            "|                               |                      |               MIG M. |\n",
            "|===============================+======================+======================|\n",
            "|   0  Tesla T4            Off  | 00000000:00:04.0 Off |                    0 |\n",
            "| N/A   59C    P0    28W /  70W |    387MiB / 15360MiB |      0%      Default |\n",
            "|                               |                      |                  N/A |\n",
            "+-------------------------------+----------------------+----------------------+\n",
            "                                                                               \n",
            "+-----------------------------------------------------------------------------+\n",
            "| Processes:                                                                  |\n",
            "|  GPU   GI   CI        PID   Type   Process name                  GPU Memory |\n",
            "|        ID   ID                                                   Usage      |\n",
            "|=============================================================================|\n",
            "+-----------------------------------------------------------------------------+\n"
          ]
        }
      ],
      "source": [
        "!nvidia-smi"
      ]
    },
    {
      "cell_type": "markdown",
      "metadata": {
        "id": "JfpmScNwkl1b"
      },
      "source": [
        "### **Entraînement**"
      ]
    },
    {
      "cell_type": "markdown",
      "metadata": {
        "id": "Qq8jjzotddY4"
      },
      "source": [
        "[link text](https://)**Question 9:** Entraînez votre modèle, prenez un batch size de 32 et un nombre d'epochs de 20"
      ]
    },
    {
      "cell_type": "code",
      "execution_count": 16,
      "metadata": {
        "id": "Iz3WKkm2NJw9",
        "colab": {
          "base_uri": "https://localhost:8080/"
        },
        "outputId": "21869b9f-0faf-4f8c-c627-73628ab38bf2"
      },
      "outputs": [
        {
          "output_type": "stream",
          "name": "stdout",
          "text": [
            "Epoch 1/20\n",
            "1563/1563 [==============================] - 24s 7ms/step - loss: 1.5441 - accuracy: 0.4340 - val_loss: 1.2906 - val_accuracy: 0.5406\n",
            "Epoch 2/20\n",
            "1563/1563 [==============================] - 9s 6ms/step - loss: 1.1558 - accuracy: 0.5876 - val_loss: 0.9911 - val_accuracy: 0.6514\n",
            "Epoch 3/20\n",
            "1563/1563 [==============================] - 9s 6ms/step - loss: 0.9905 - accuracy: 0.6514 - val_loss: 0.9411 - val_accuracy: 0.6740\n",
            "Epoch 4/20\n",
            "1563/1563 [==============================] - 10s 7ms/step - loss: 0.9162 - accuracy: 0.6768 - val_loss: 0.8052 - val_accuracy: 0.7224\n",
            "Epoch 5/20\n",
            "1563/1563 [==============================] - 10s 6ms/step - loss: 0.8566 - accuracy: 0.6994 - val_loss: 0.7832 - val_accuracy: 0.7217\n",
            "Epoch 6/20\n",
            "1563/1563 [==============================] - 10s 6ms/step - loss: 0.8068 - accuracy: 0.7165 - val_loss: 0.7411 - val_accuracy: 0.7417\n",
            "Epoch 7/20\n",
            "1563/1563 [==============================] - 10s 6ms/step - loss: 0.7718 - accuracy: 0.7282 - val_loss: 0.7402 - val_accuracy: 0.7438\n",
            "Epoch 8/20\n",
            "1563/1563 [==============================] - 10s 6ms/step - loss: 0.7448 - accuracy: 0.7415 - val_loss: 0.7242 - val_accuracy: 0.7499\n",
            "Epoch 9/20\n",
            "1563/1563 [==============================] - 10s 6ms/step - loss: 0.7193 - accuracy: 0.7462 - val_loss: 0.7006 - val_accuracy: 0.7611\n",
            "Epoch 10/20\n",
            "1563/1563 [==============================] - 10s 7ms/step - loss: 0.6959 - accuracy: 0.7553 - val_loss: 0.6977 - val_accuracy: 0.7634\n",
            "Epoch 11/20\n",
            "1563/1563 [==============================] - 10s 6ms/step - loss: 0.6765 - accuracy: 0.7623 - val_loss: 0.7245 - val_accuracy: 0.7580\n",
            "Epoch 12/20\n",
            "1563/1563 [==============================] - 9s 6ms/step - loss: 0.6568 - accuracy: 0.7709 - val_loss: 0.6825 - val_accuracy: 0.7670\n",
            "Epoch 13/20\n",
            "1563/1563 [==============================] - 10s 6ms/step - loss: 0.6477 - accuracy: 0.7710 - val_loss: 0.6855 - val_accuracy: 0.7629\n",
            "Epoch 14/20\n",
            "1563/1563 [==============================] - 10s 6ms/step - loss: 0.6287 - accuracy: 0.7783 - val_loss: 0.6922 - val_accuracy: 0.7656\n",
            "Epoch 15/20\n",
            "1563/1563 [==============================] - 11s 7ms/step - loss: 0.6167 - accuracy: 0.7845 - val_loss: 0.7117 - val_accuracy: 0.7612\n",
            "Epoch 16/20\n",
            "1563/1563 [==============================] - 9s 6ms/step - loss: 0.6067 - accuracy: 0.7887 - val_loss: 0.6757 - val_accuracy: 0.7729\n",
            "Epoch 17/20\n",
            "1563/1563 [==============================] - 9s 6ms/step - loss: 0.5924 - accuracy: 0.7928 - val_loss: 0.7134 - val_accuracy: 0.7586\n",
            "Epoch 18/20\n",
            "1563/1563 [==============================] - 10s 7ms/step - loss: 0.5790 - accuracy: 0.7964 - val_loss: 0.6620 - val_accuracy: 0.7770\n",
            "Epoch 19/20\n",
            "1563/1563 [==============================] - 10s 7ms/step - loss: 0.5719 - accuracy: 0.8010 - val_loss: 0.6603 - val_accuracy: 0.7802\n",
            "Epoch 20/20\n",
            "1563/1563 [==============================] - 10s 6ms/step - loss: 0.5589 - accuracy: 0.8042 - val_loss: 0.6837 - val_accuracy: 0.7709\n"
          ]
        }
      ],
      "source": [
        "batch_size = 32\n",
        "epochs = 20\n",
        "\n",
        "history = model.fit(x_train, y_train, batch_size=batch_size, epochs=epochs, verbose=1, validation_data=(x_test, y_test))\n"
      ]
    },
    {
      "cell_type": "markdown",
      "metadata": {
        "id": "pHE6n_XtdzIE"
      },
      "source": [
        "**Question 10:** Affichez les courbes de train loss et val loss"
      ]
    },
    {
      "cell_type": "code",
      "execution_count": 17,
      "metadata": {
        "id": "7KHQeDiAk6Uy",
        "colab": {
          "base_uri": "https://localhost:8080/",
          "height": 487
        },
        "outputId": "48f8847f-9245-4364-b6e6-42b70e0111dc"
      },
      "outputs": [
        {
          "output_type": "display_data",
          "data": {
            "text/plain": [
              "<Figure size 1000x500 with 1 Axes>"
            ],
            "image/png": "[encoded data removed]"
          },
          "metadata": {}
        }
      ],
      "source": [
        "plt.figure(figsize=(10,5))\n",
        "plt.plot(history.history['loss'], label='train')\n",
        "plt.plot(history.history['val_loss'], label='val')\n",
        "plt.title('Training and Validation Loss')\n",
        "plt.xlabel('Epochs')\n",
        "plt.ylabel('Loss')\n",
        "plt.legend()\n",
        "plt.show()"
      ]
    },
    {
      "cell_type": "markdown",
      "metadata": {
        "id": "U15CSVSokpGL"
      },
      "source": [
        "### Score sur le test dataset"
      ]
    },
    {
      "cell_type": "markdown",
      "metadata": {
        "id": "GSLISSqs7xvu"
      },
      "source": [
        "**Question 11:** Afficher le score sur les données de test"
      ]
    },
    {
      "cell_type": "code",
      "execution_count": 18,
      "metadata": {
        "id": "PaNLNPk4NJzv",
        "colab": {
          "base_uri": "https://localhost:8080/"
        },
        "outputId": "c4bbd9cf-f3d7-47ac-e45f-d6bcb775e596"
      },
      "outputs": [
        {
          "output_type": "stream",
          "name": "stdout",
          "text": [
            "Test loss: 0.6837436556816101\n",
            "Test accuracy: 0.7709000110626221\n"
          ]
        }
      ],
      "source": [
        "score = model.evaluate(x_test, y_test, verbose=0)\n",
        "print('Test loss:', score[0])\n",
        "print('Test accuracy:', score[1])\n"
      ]
    },
    {
      "cell_type": "markdown",
      "metadata": {
        "id": "LzgZhcC6gqF4"
      },
      "source": [
        "**Question 12**: testez sur un exemple et donnez le numéro de la classe, vérifiez dans le site CIFAR donnée dans l'introduction quelle est le nom de la classe"
      ]
    },
    {
      "cell_type": "code",
      "execution_count": 19,
      "metadata": {
        "id": "K91N1jWJK5Zq",
        "colab": {
          "base_uri": "https://localhost:8080/",
          "height": 447
        },
        "outputId": "eea438ea-6e24-44b8-bfc7-37941ee12904"
      },
      "outputs": [
        {
          "output_type": "execute_result",
          "data": {
            "text/plain": [
              "<matplotlib.image.AxesImage at 0x7fb97e52cc40>"
            ]
          },
          "metadata": {},
          "execution_count": 19
        },
        {
          "output_type": "display_data",
          "data": {
            "text/plain": [
              "<Figure size 640x480 with 1 Axes>"
            ],
            "image/png": "[encoded data removed]"
          },
          "metadata": {}
        }
      ],
      "source": [
        "plt.imshow(x_test[100,:,:,:])"
      ]
    },
    {
      "cell_type": "code",
      "execution_count": 20,
      "metadata": {
        "id": "IvSUgZhyYRrN",
        "colab": {
          "base_uri": "https://localhost:8080/"
        },
        "outputId": "34ac6bef-9e22-4580-ef9c-ae4f1aa3bc59"
      },
      "outputs": [
        {
          "output_type": "stream",
          "name": "stdout",
          "text": [
            "1/1 [==============================] - 0s 287ms/step\n"
          ]
        },
        {
          "output_type": "execute_result",
          "data": {
            "text/plain": [
              "4"
            ]
          },
          "metadata": {},
          "execution_count": 20
        }
      ],
      "source": [
        "# ce code vous donne le numéro de la classe\n",
        "np.argmax(model.predict(x_test[100,None,:,:,:]))"
      ]
    }
  ],
  "metadata": {
    "accelerator": "GPU",
    "colab": {
      "provenance": [],
      "include_colab_link": true
    },
    "kernelspec": {
      "display_name": "Python 3",
      "name": "python3"
    },
    "language_info": {
      "codemirror_mode": {
        "name": "ipython",
        "version": 3
      },
      "file_extension": ".py",
      "mimetype": "text/x-python",
      "name": "python",
      "nbconvert_exporter": "python",
      "pygments_lexer": "ipython3",
      "version": "3.11.2"
    }
  },
  "nbformat": 4,
  "nbformat_minor": 0
}